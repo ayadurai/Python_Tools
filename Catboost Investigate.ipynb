{
 "cells": [
  {
   "cell_type": "markdown",
   "metadata": {},
   "source": [
    "# Impact of null values and new values when using CatBoost\n",
    "Tests whether it is possible to fit and predict (using Catboost) when there are nulls in the data.  \n",
    "Findings should be clear from the markdown text, so it should be possible to ignore the code, if desired."
   ]
  },
  {
   "cell_type": "code",
   "execution_count": 38,
   "metadata": {},
   "outputs": [],
   "source": [
    "import pandas as pd\n",
    "import numpy as np\n",
    "from sklearn.datasets import load_breast_cancer\n",
    "import catboost as cb\n",
    "\n",
    "# Settings\n",
    "pd.options.display.max_columns=150"
   ]
  },
  {
   "cell_type": "code",
   "execution_count": 110,
   "metadata": {},
   "outputs": [],
   "source": [
    "bunch = load_breast_cancer()\n",
    "\n",
    "df = pd.DataFrame(bunch.data, columns=bunch.feature_names)\n",
    "df.columns = [c.replace(' ', '_') for c in list(df)]\n",
    "df['y'] = bunch.target\n",
    "\n",
    "#### Create test data\n",
    "\n",
    "# Test fields\n",
    "df['cat_no_nulls'] = pd.cut(df['worst_concave_points'], [-1, 0.06, 0.1, 2], False, ['Low', 'Medium', 'High'])\n",
    "df['str_no_nulls'] = pd.cut(df['worst_concave_points'], [-1, 0.06, 0.1, 2], False, ['Low', 'Medium', 'High']).astype(str)\n",
    "df['float_no_nulls'] = df['worst_concave_points']\n",
    "\n",
    "df['samp'] = 'train'\n",
    "df.loc[df.index > 300, 'samp'] = 'test'\n",
    "\n",
    "# Test fields with nulls\n",
    "df['cat_with_nulls'] = pd.cut(df['worst_concave_points'], [-1, 0.06, 0.1, 2], False, ['Low', 'Medium', 'High'])\n",
    "df['str_with_nulls'] = pd.cut(df['worst_concave_points'], [-1, 0.06, 0.1, 2], False, ['Low', 'Medium', 'High']).astype(str)\n",
    "df['float_with_nulls'] = df['worst_concave_points']\n",
    "\n",
    "df.loc[(df['samp'] == 'test') & (df.index > 560),\n",
    "       ['cat_with_nulls', 'str_with_nulls', 'float_with_nulls']] = np.NaN\n",
    "\n",
    "train = df.query('samp == \"train\"')\n",
    "test = df.query('samp == \"test\"')\n",
    "\n",
    "y = 'y'"
   ]
  },
  {
   "cell_type": "markdown",
   "metadata": {},
   "source": [
    "## Tests"
   ]
  },
  {
   "cell_type": "markdown",
   "metadata": {},
   "source": [
    "### Without nulls"
   ]
  },
  {
   "cell_type": "markdown",
   "metadata": {},
   "source": [
    "#### Float\n",
    "Runs just fine."
   ]
  },
  {
   "cell_type": "code",
   "execution_count": 111,
   "metadata": {},
   "outputs": [],
   "source": [
    "# Float\n",
    "X = ['float_no_nulls']\n",
    "clf = cb.CatBoostClassifier(logging_level='Silent')\n",
    "clf.fit(train[X], train[y])\n",
    "temp = clf.predict_proba(train[X])\n",
    "# Runs with no error"
   ]
  },
  {
   "cell_type": "markdown",
   "metadata": {},
   "source": [
    "#### Str\n",
    "String features can only be used if the variable is specified as a categorical in the cb fit."
   ]
  },
  {
   "cell_type": "code",
   "execution_count": 112,
   "metadata": {},
   "outputs": [
    {
     "name": "stdout",
     "output_type": "stream",
     "text": [
      "Fails.\n"
     ]
    }
   ],
   "source": [
    "# Str\n",
    "try:\n",
    "    X = ['str_no_nulls']\n",
    "    clf = cb.CatBoostClassifier(logging_level='Silent')\n",
    "    clf.fit(train[X], train[y])\n",
    "    temp = clf.predict_proba(train[X])\n",
    "except:\n",
    "    print('Fails.')\n",
    "#     raise\n",
    "# The fit fails with a type exception"
   ]
  },
  {
   "cell_type": "code",
   "execution_count": 113,
   "metadata": {},
   "outputs": [],
   "source": [
    "# Str, marked as a categorical in the cb fit.\n",
    "try:\n",
    "    X = ['str_no_nulls']\n",
    "    clf = cb.CatBoostClassifier(logging_level='Silent')\n",
    "    clf.fit(train[X], train[y], cat_features=[0])\n",
    "    temp = clf.predict_proba(train[X])\n",
    "except:\n",
    "    print('Fails.')\n",
    "# Runs successfully"
   ]
  },
  {
   "cell_type": "markdown",
   "metadata": {},
   "source": [
    "#### Cat\n",
    "Cat features (i.e. features that are explicitly set as Categorical dtype) can only be used if the variable is specified as a categorical in the cb fit."
   ]
  },
  {
   "cell_type": "code",
   "execution_count": 114,
   "metadata": {},
   "outputs": [
    {
     "name": "stdout",
     "output_type": "stream",
     "text": [
      "Fails.\n"
     ]
    }
   ],
   "source": [
    "try:\n",
    "    X = ['cat_no_nulls']\n",
    "    clf = cb.CatBoostClassifier(logging_level='Silent')\n",
    "    clf.fit(train[X], train[y])\n",
    "    temp = clf.predict_proba(train[X])\n",
    "except:\n",
    "    print('Fails.')\n",
    "#     raise\n",
    "# The fit fails with a type exception"
   ]
  },
  {
   "cell_type": "code",
   "execution_count": 115,
   "metadata": {},
   "outputs": [],
   "source": [
    "# Cat, marked as a categorical in the cb fit.\n",
    "try:\n",
    "    X = ['cat_no_nulls']\n",
    "    clf = cb.CatBoostClassifier(logging_level='Silent')\n",
    "    clf.fit(train[X], train[y], cat_features=[0])\n",
    "    temp = clf.predict_proba(train[X])\n",
    "except:\n",
    "    print('Fails.')\n",
    "# Runs successfully"
   ]
  },
  {
   "cell_type": "markdown",
   "metadata": {},
   "source": [
    "### With nulls"
   ]
  },
  {
   "cell_type": "markdown",
   "metadata": {},
   "source": [
    "#### Float\n",
    "Able to train and test even if there are null values.  \n",
    "\n",
    "The NaNs might be getting handled as categoricals. If there were nulls in the training set, the prediction seems to reflect the relationship between the nulls (in the independent) and the dependent variable. If there are no nulls in the training set, the prediction seems to be quite negative (i.e. high probability of event class)."
   ]
  },
  {
   "cell_type": "code",
   "execution_count": 116,
   "metadata": {},
   "outputs": [],
   "source": [
    "# Float\n",
    "X = ['float_with_nulls']\n",
    "clf = cb.CatBoostClassifier(logging_level='Silent')\n",
    "clf.fit(test[X], test[y])\n",
    "df['pred_prob'] = clf.predict_proba(df[X])[:, 1]\n",
    "# Runs with no error"
   ]
  },
  {
   "cell_type": "code",
   "execution_count": 121,
   "metadata": {},
   "outputs": [
    {
     "data": {
      "text/html": [
       "<div>\n",
       "<style scoped>\n",
       "    .dataframe tbody tr th:only-of-type {\n",
       "        vertical-align: middle;\n",
       "    }\n",
       "\n",
       "    .dataframe tbody tr th {\n",
       "        vertical-align: top;\n",
       "    }\n",
       "\n",
       "    .dataframe thead th {\n",
       "        text-align: right;\n",
       "    }\n",
       "</style>\n",
       "<table border=\"1\" class=\"dataframe\">\n",
       "  <thead>\n",
       "    <tr style=\"text-align: right;\">\n",
       "      <th></th>\n",
       "      <th>float_with_nulls</th>\n",
       "      <th>y</th>\n",
       "      <th>pred_prob</th>\n",
       "    </tr>\n",
       "  </thead>\n",
       "  <tbody>\n",
       "    <tr>\n",
       "      <th>554</th>\n",
       "      <td>0.06493</td>\n",
       "      <td>1</td>\n",
       "      <td>0.990017</td>\n",
       "    </tr>\n",
       "    <tr>\n",
       "      <th>555</th>\n",
       "      <td>0.09127</td>\n",
       "      <td>1</td>\n",
       "      <td>0.971069</td>\n",
       "    </tr>\n",
       "    <tr>\n",
       "      <th>556</th>\n",
       "      <td>0.02232</td>\n",
       "      <td>1</td>\n",
       "      <td>0.993857</td>\n",
       "    </tr>\n",
       "    <tr>\n",
       "      <th>557</th>\n",
       "      <td>0.00000</td>\n",
       "      <td>1</td>\n",
       "      <td>0.980513</td>\n",
       "    </tr>\n",
       "    <tr>\n",
       "      <th>558</th>\n",
       "      <td>0.11050</td>\n",
       "      <td>1</td>\n",
       "      <td>0.931677</td>\n",
       "    </tr>\n",
       "    <tr>\n",
       "      <th>559</th>\n",
       "      <td>0.09653</td>\n",
       "      <td>1</td>\n",
       "      <td>0.974008</td>\n",
       "    </tr>\n",
       "    <tr>\n",
       "      <th>560</th>\n",
       "      <td>0.10480</td>\n",
       "      <td>1</td>\n",
       "      <td>0.928922</td>\n",
       "    </tr>\n",
       "    <tr>\n",
       "      <th>561</th>\n",
       "      <td>NaN</td>\n",
       "      <td>1</td>\n",
       "      <td>0.263606</td>\n",
       "    </tr>\n",
       "    <tr>\n",
       "      <th>562</th>\n",
       "      <td>NaN</td>\n",
       "      <td>0</td>\n",
       "      <td>0.263606</td>\n",
       "    </tr>\n",
       "    <tr>\n",
       "      <th>563</th>\n",
       "      <td>NaN</td>\n",
       "      <td>0</td>\n",
       "      <td>0.263606</td>\n",
       "    </tr>\n",
       "    <tr>\n",
       "      <th>564</th>\n",
       "      <td>NaN</td>\n",
       "      <td>0</td>\n",
       "      <td>0.263606</td>\n",
       "    </tr>\n",
       "    <tr>\n",
       "      <th>565</th>\n",
       "      <td>NaN</td>\n",
       "      <td>0</td>\n",
       "      <td>0.263606</td>\n",
       "    </tr>\n",
       "    <tr>\n",
       "      <th>566</th>\n",
       "      <td>NaN</td>\n",
       "      <td>0</td>\n",
       "      <td>0.263606</td>\n",
       "    </tr>\n",
       "    <tr>\n",
       "      <th>567</th>\n",
       "      <td>NaN</td>\n",
       "      <td>0</td>\n",
       "      <td>0.263606</td>\n",
       "    </tr>\n",
       "    <tr>\n",
       "      <th>568</th>\n",
       "      <td>NaN</td>\n",
       "      <td>1</td>\n",
       "      <td>0.263606</td>\n",
       "    </tr>\n",
       "  </tbody>\n",
       "</table>\n",
       "</div>"
      ],
      "text/plain": [
       "     float_with_nulls  y  pred_prob\n",
       "554           0.06493  1   0.990017\n",
       "555           0.09127  1   0.971069\n",
       "556           0.02232  1   0.993857\n",
       "557           0.00000  1   0.980513\n",
       "558           0.11050  1   0.931677\n",
       "559           0.09653  1   0.974008\n",
       "560           0.10480  1   0.928922\n",
       "561               NaN  1   0.263606\n",
       "562               NaN  0   0.263606\n",
       "563               NaN  0   0.263606\n",
       "564               NaN  0   0.263606\n",
       "565               NaN  0   0.263606\n",
       "566               NaN  0   0.263606\n",
       "567               NaN  0   0.263606\n",
       "568               NaN  1   0.263606"
      ]
     },
     "execution_count": 121,
     "metadata": {},
     "output_type": "execute_result"
    }
   ],
   "source": [
    "df[X + [y, 'pred_prob']].tail(15)"
   ]
  },
  {
   "cell_type": "code",
   "execution_count": 122,
   "metadata": {},
   "outputs": [],
   "source": [
    "# Float\n",
    "X = ['float_with_nulls']\n",
    "clf = cb.CatBoostClassifier(logging_level='Silent')\n",
    "clf.fit(train[X], train[y])\n",
    "df['pred_prob'] = clf.predict_proba(df[X])[:, 1]\n",
    "# Runs with no error"
   ]
  },
  {
   "cell_type": "code",
   "execution_count": 123,
   "metadata": {},
   "outputs": [
    {
     "data": {
      "text/html": [
       "<div>\n",
       "<style scoped>\n",
       "    .dataframe tbody tr th:only-of-type {\n",
       "        vertical-align: middle;\n",
       "    }\n",
       "\n",
       "    .dataframe tbody tr th {\n",
       "        vertical-align: top;\n",
       "    }\n",
       "\n",
       "    .dataframe thead th {\n",
       "        text-align: right;\n",
       "    }\n",
       "</style>\n",
       "<table border=\"1\" class=\"dataframe\">\n",
       "  <thead>\n",
       "    <tr style=\"text-align: right;\">\n",
       "      <th></th>\n",
       "      <th>float_with_nulls</th>\n",
       "      <th>y</th>\n",
       "      <th>pred_prob</th>\n",
       "    </tr>\n",
       "  </thead>\n",
       "  <tbody>\n",
       "    <tr>\n",
       "      <th>554</th>\n",
       "      <td>0.06493</td>\n",
       "      <td>1</td>\n",
       "      <td>0.980924</td>\n",
       "    </tr>\n",
       "    <tr>\n",
       "      <th>555</th>\n",
       "      <td>0.09127</td>\n",
       "      <td>1</td>\n",
       "      <td>0.872240</td>\n",
       "    </tr>\n",
       "    <tr>\n",
       "      <th>556</th>\n",
       "      <td>0.02232</td>\n",
       "      <td>1</td>\n",
       "      <td>0.967813</td>\n",
       "    </tr>\n",
       "    <tr>\n",
       "      <th>557</th>\n",
       "      <td>0.00000</td>\n",
       "      <td>1</td>\n",
       "      <td>0.986941</td>\n",
       "    </tr>\n",
       "    <tr>\n",
       "      <th>558</th>\n",
       "      <td>0.11050</td>\n",
       "      <td>1</td>\n",
       "      <td>0.553797</td>\n",
       "    </tr>\n",
       "    <tr>\n",
       "      <th>559</th>\n",
       "      <td>0.09653</td>\n",
       "      <td>1</td>\n",
       "      <td>0.862910</td>\n",
       "    </tr>\n",
       "    <tr>\n",
       "      <th>560</th>\n",
       "      <td>0.10480</td>\n",
       "      <td>1</td>\n",
       "      <td>0.889119</td>\n",
       "    </tr>\n",
       "    <tr>\n",
       "      <th>561</th>\n",
       "      <td>NaN</td>\n",
       "      <td>1</td>\n",
       "      <td>0.986941</td>\n",
       "    </tr>\n",
       "    <tr>\n",
       "      <th>562</th>\n",
       "      <td>NaN</td>\n",
       "      <td>0</td>\n",
       "      <td>0.986941</td>\n",
       "    </tr>\n",
       "    <tr>\n",
       "      <th>563</th>\n",
       "      <td>NaN</td>\n",
       "      <td>0</td>\n",
       "      <td>0.986941</td>\n",
       "    </tr>\n",
       "    <tr>\n",
       "      <th>564</th>\n",
       "      <td>NaN</td>\n",
       "      <td>0</td>\n",
       "      <td>0.986941</td>\n",
       "    </tr>\n",
       "    <tr>\n",
       "      <th>565</th>\n",
       "      <td>NaN</td>\n",
       "      <td>0</td>\n",
       "      <td>0.986941</td>\n",
       "    </tr>\n",
       "    <tr>\n",
       "      <th>566</th>\n",
       "      <td>NaN</td>\n",
       "      <td>0</td>\n",
       "      <td>0.986941</td>\n",
       "    </tr>\n",
       "    <tr>\n",
       "      <th>567</th>\n",
       "      <td>NaN</td>\n",
       "      <td>0</td>\n",
       "      <td>0.986941</td>\n",
       "    </tr>\n",
       "    <tr>\n",
       "      <th>568</th>\n",
       "      <td>NaN</td>\n",
       "      <td>1</td>\n",
       "      <td>0.986941</td>\n",
       "    </tr>\n",
       "  </tbody>\n",
       "</table>\n",
       "</div>"
      ],
      "text/plain": [
       "     float_with_nulls  y  pred_prob\n",
       "554           0.06493  1   0.980924\n",
       "555           0.09127  1   0.872240\n",
       "556           0.02232  1   0.967813\n",
       "557           0.00000  1   0.986941\n",
       "558           0.11050  1   0.553797\n",
       "559           0.09653  1   0.862910\n",
       "560           0.10480  1   0.889119\n",
       "561               NaN  1   0.986941\n",
       "562               NaN  0   0.986941\n",
       "563               NaN  0   0.986941\n",
       "564               NaN  0   0.986941\n",
       "565               NaN  0   0.986941\n",
       "566               NaN  0   0.986941\n",
       "567               NaN  0   0.986941\n",
       "568               NaN  1   0.986941"
      ]
     },
     "execution_count": 123,
     "metadata": {},
     "output_type": "execute_result"
    }
   ],
   "source": [
    "df[X + [y, 'pred_prob']].tail(15)"
   ]
  },
  {
   "cell_type": "code",
   "execution_count": 125,
   "metadata": {},
   "outputs": [
    {
     "data": {
      "text/plain": [
       "count    569.000000\n",
       "mean       0.597156\n",
       "std        0.411943\n",
       "min        0.000973\n",
       "25%        0.113664\n",
       "50%        0.869972\n",
       "75%        0.967813\n",
       "max        0.991313\n",
       "Name: pred_prob, dtype: float64"
      ]
     },
     "execution_count": 125,
     "metadata": {},
     "output_type": "execute_result"
    }
   ],
   "source": [
    "df['pred_prob'].describe()"
   ]
  },
  {
   "cell_type": "markdown",
   "metadata": {},
   "source": [
    "#### Str\n",
    "For strings, NaN values are not allowed for either the fit, or the predict."
   ]
  },
  {
   "cell_type": "code",
   "execution_count": 129,
   "metadata": {},
   "outputs": [
    {
     "name": "stdout",
     "output_type": "stream",
     "text": [
      "Fails.\n"
     ]
    }
   ],
   "source": [
    "# Str, marked as a categorical in the cb fit.\n",
    "try:\n",
    "    X = ['str_with_nulls']\n",
    "    clf = cb.CatBoostClassifier(logging_level='Silent')\n",
    "    clf.fit(test[X], test[y], cat_features=[0])\n",
    "    temp = clf.predict_proba(test[X])\n",
    "except:\n",
    "    print('Fails.')\n",
    "#     raise\n",
    "# Fails with cb error\n",
    "# \"Invalid type for cat_feature[1,0]=nan : cat_features must be integer or string, real number values and NaN values should be converted to string.\""
   ]
  },
  {
   "cell_type": "code",
   "execution_count": 130,
   "metadata": {},
   "outputs": [
    {
     "name": "stdout",
     "output_type": "stream",
     "text": [
      "Fails.\n"
     ]
    }
   ],
   "source": [
    "# Str, marked as a categorical in the cb fit.\n",
    "try:\n",
    "    X = ['str_with_nulls']\n",
    "    clf = cb.CatBoostClassifier(logging_level='Silent')\n",
    "    clf.fit(train[X], train[y], cat_features=[0])\n",
    "    temp = clf.predict_proba(test[X])\n",
    "except:\n",
    "    print('Fails.')\n",
    "#     raise\n",
    "# Fails with cb error\n",
    "# \"Invalid type for cat_feature[1,0]=nan : cat_features must be integer or string, real number values and NaN values should be converted to string.\""
   ]
  },
  {
   "cell_type": "markdown",
   "metadata": {},
   "source": [
    "#### Cat\n",
    "Same results as str. NaN values are not allowed for either the fit, or the predict."
   ]
  },
  {
   "cell_type": "code",
   "execution_count": 139,
   "metadata": {},
   "outputs": [
    {
     "name": "stdout",
     "output_type": "stream",
     "text": [
      "Fails.\n"
     ]
    }
   ],
   "source": [
    "try:\n",
    "    X = ['cat_with_nulls']\n",
    "    clf = cb.CatBoostClassifier(logging_level='Silent')\n",
    "    clf.fit(test[X], test[y], cat_features=[0])\n",
    "    df['pred_prob'] = clf.predict_proba(df[X])\n",
    "except:\n",
    "    print('Fails.')\n",
    "#     raise\n",
    "# Fails with cb error\n",
    "# \"Invalid type for cat_feature[1,0]=nan : cat_features must be integer or string, real number values and NaN values should be converted to string.\""
   ]
  },
  {
   "cell_type": "code",
   "execution_count": 142,
   "metadata": {},
   "outputs": [
    {
     "name": "stdout",
     "output_type": "stream",
     "text": [
      "Fails.\n"
     ]
    }
   ],
   "source": [
    "try:\n",
    "    X = ['cat_with_nulls']\n",
    "    clf = cb.CatBoostClassifier(logging_level='Silent')\n",
    "    clf.fit(train[X], train[y], cat_features=[0])\n",
    "    df['pred_prob'] = clf.predict_proba(df[X])\n",
    "except:\n",
    "    print('Fails.')\n",
    "#     raise\n",
    "# Fails with cb error\n",
    "# \"Invalid type for cat_feature[1,0]=nan : cat_features must be integer or string, real number values and NaN values should be converted to string.\""
   ]
  },
  {
   "cell_type": "code",
   "execution_count": 89,
   "metadata": {},
   "outputs": [],
   "source": [
    "# Cat, marked as a categorical in the cb fit.\n",
    "try:\n",
    "    X = ['cat_no_nulls']\n",
    "    clf = cb.CatBoostClassifier(logging_level='Silent')\n",
    "    clf.fit(train[X], train[y], cat_features=[0])\n",
    "    temp = clf.predict_proba(train[X])\n",
    "except:\n",
    "    print('Fails.')\n",
    "# Runs successfully"
   ]
  },
  {
   "cell_type": "markdown",
   "metadata": {},
   "source": [
    "### With new values in the predict\n",
    "Similar to the behaviour for float where there were no nulls in the fit, but there were nulls in the fit.  \n",
    "When there is a new categorical value during predict, cb is still able to generate a prediction. The predicted value differs from the other predictions - it would seem that the generated model has some \"view\" on what to do with new values."
   ]
  },
  {
   "cell_type": "code",
   "execution_count": 145,
   "metadata": {},
   "outputs": [],
   "source": [
    "df.loc[df.index > 560, 'str_no_nulls'] = 'new'\n",
    "\n",
    "# Str, marked as a categorical in the cb fit.\n",
    "try:\n",
    "    X = ['str_no_nulls']\n",
    "    clf = cb.CatBoostClassifier(logging_level='Silent')\n",
    "    clf.fit(train[X], train[y], cat_features=[0])\n",
    "    df['pred_prob'] = clf.predict_proba(df[X])\n",
    "except:\n",
    "    print('Fails.')\n",
    "# Runs successfully"
   ]
  },
  {
   "cell_type": "code",
   "execution_count": 147,
   "metadata": {},
   "outputs": [
    {
     "data": {
      "text/html": [
       "<div>\n",
       "<style scoped>\n",
       "    .dataframe tbody tr th:only-of-type {\n",
       "        vertical-align: middle;\n",
       "    }\n",
       "\n",
       "    .dataframe tbody tr th {\n",
       "        vertical-align: top;\n",
       "    }\n",
       "\n",
       "    .dataframe thead th {\n",
       "        text-align: right;\n",
       "    }\n",
       "</style>\n",
       "<table border=\"1\" class=\"dataframe\">\n",
       "  <thead>\n",
       "    <tr style=\"text-align: right;\">\n",
       "      <th></th>\n",
       "      <th>samp</th>\n",
       "      <th>str_no_nulls</th>\n",
       "      <th>y</th>\n",
       "      <th>pred_prob</th>\n",
       "    </tr>\n",
       "  </thead>\n",
       "  <tbody>\n",
       "    <tr>\n",
       "      <th>554</th>\n",
       "      <td>test</td>\n",
       "      <td>Medium</td>\n",
       "      <td>1</td>\n",
       "      <td>0.094290</td>\n",
       "    </tr>\n",
       "    <tr>\n",
       "      <th>555</th>\n",
       "      <td>test</td>\n",
       "      <td>Medium</td>\n",
       "      <td>1</td>\n",
       "      <td>0.094290</td>\n",
       "    </tr>\n",
       "    <tr>\n",
       "      <th>556</th>\n",
       "      <td>test</td>\n",
       "      <td>Low</td>\n",
       "      <td>1</td>\n",
       "      <td>0.028130</td>\n",
       "    </tr>\n",
       "    <tr>\n",
       "      <th>557</th>\n",
       "      <td>test</td>\n",
       "      <td>Low</td>\n",
       "      <td>1</td>\n",
       "      <td>0.028130</td>\n",
       "    </tr>\n",
       "    <tr>\n",
       "      <th>558</th>\n",
       "      <td>test</td>\n",
       "      <td>High</td>\n",
       "      <td>1</td>\n",
       "      <td>0.774501</td>\n",
       "    </tr>\n",
       "    <tr>\n",
       "      <th>559</th>\n",
       "      <td>test</td>\n",
       "      <td>Medium</td>\n",
       "      <td>1</td>\n",
       "      <td>0.094290</td>\n",
       "    </tr>\n",
       "    <tr>\n",
       "      <th>560</th>\n",
       "      <td>test</td>\n",
       "      <td>High</td>\n",
       "      <td>1</td>\n",
       "      <td>0.774501</td>\n",
       "    </tr>\n",
       "    <tr>\n",
       "      <th>561</th>\n",
       "      <td>test</td>\n",
       "      <td>new</td>\n",
       "      <td>1</td>\n",
       "      <td>0.030199</td>\n",
       "    </tr>\n",
       "    <tr>\n",
       "      <th>562</th>\n",
       "      <td>test</td>\n",
       "      <td>new</td>\n",
       "      <td>0</td>\n",
       "      <td>0.030199</td>\n",
       "    </tr>\n",
       "    <tr>\n",
       "      <th>563</th>\n",
       "      <td>test</td>\n",
       "      <td>new</td>\n",
       "      <td>0</td>\n",
       "      <td>0.030199</td>\n",
       "    </tr>\n",
       "    <tr>\n",
       "      <th>564</th>\n",
       "      <td>test</td>\n",
       "      <td>new</td>\n",
       "      <td>0</td>\n",
       "      <td>0.030199</td>\n",
       "    </tr>\n",
       "    <tr>\n",
       "      <th>565</th>\n",
       "      <td>test</td>\n",
       "      <td>new</td>\n",
       "      <td>0</td>\n",
       "      <td>0.030199</td>\n",
       "    </tr>\n",
       "    <tr>\n",
       "      <th>566</th>\n",
       "      <td>test</td>\n",
       "      <td>new</td>\n",
       "      <td>0</td>\n",
       "      <td>0.030199</td>\n",
       "    </tr>\n",
       "    <tr>\n",
       "      <th>567</th>\n",
       "      <td>test</td>\n",
       "      <td>new</td>\n",
       "      <td>0</td>\n",
       "      <td>0.030199</td>\n",
       "    </tr>\n",
       "    <tr>\n",
       "      <th>568</th>\n",
       "      <td>test</td>\n",
       "      <td>new</td>\n",
       "      <td>1</td>\n",
       "      <td>0.030199</td>\n",
       "    </tr>\n",
       "  </tbody>\n",
       "</table>\n",
       "</div>"
      ],
      "text/plain": [
       "     samp str_no_nulls  y  pred_prob\n",
       "554  test       Medium  1   0.094290\n",
       "555  test       Medium  1   0.094290\n",
       "556  test          Low  1   0.028130\n",
       "557  test          Low  1   0.028130\n",
       "558  test         High  1   0.774501\n",
       "559  test       Medium  1   0.094290\n",
       "560  test         High  1   0.774501\n",
       "561  test          new  1   0.030199\n",
       "562  test          new  0   0.030199\n",
       "563  test          new  0   0.030199\n",
       "564  test          new  0   0.030199\n",
       "565  test          new  0   0.030199\n",
       "566  test          new  0   0.030199\n",
       "567  test          new  0   0.030199\n",
       "568  test          new  1   0.030199"
      ]
     },
     "execution_count": 147,
     "metadata": {},
     "output_type": "execute_result"
    }
   ],
   "source": [
    "df[['samp'] + X + [y, 'pred_prob']].tail(15)"
   ]
  }
 ],
 "metadata": {
  "kernelspec": {
   "display_name": "Python 3",
   "language": "python",
   "name": "python3"
  },
  "language_info": {
   "codemirror_mode": {
    "name": "ipython",
    "version": 3
   },
   "file_extension": ".py",
   "mimetype": "text/x-python",
   "name": "python",
   "nbconvert_exporter": "python",
   "pygments_lexer": "ipython3",
   "version": "3.6.4"
  }
 },
 "nbformat": 4,
 "nbformat_minor": 2
}
